{
 "cells": [
  {
   "cell_type": "markdown",
   "metadata": {},
   "source": [
    "# SI 618 Final Project Report\n",
    "\n",
    "Team member:\n",
    "|  Name  |  uniqname |   UMID \n",
    "|:------|:-------|:-------|\n",
    "| Yung-Yi (Cerise) Huang | superb |   | \n",
    "| Ming-Jan (Randy) Pan | mjpan  |  91936606 | "
   ]
  },
  {
   "cell_type": "markdown",
   "metadata": {},
   "source": []
  },
  {
   "cell_type": "code",
   "execution_count": null,
   "metadata": {},
   "outputs": [],
   "source": []
  }
 ],
 "metadata": {
  "language_info": {
   "name": "python"
  }
 },
 "nbformat": 4,
 "nbformat_minor": 2
}
