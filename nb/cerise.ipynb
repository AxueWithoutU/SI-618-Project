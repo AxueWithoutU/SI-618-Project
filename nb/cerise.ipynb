{
 "cells": [
  {
   "cell_type": "code",
   "execution_count": null,
   "metadata": {},
   "outputs": [],
   "source": [
    "import pandas as pd\n",
    "from pandas.plotting import register_matplotlib_converters\n",
    "import matplotlib.pyplot as plt\n",
    "import matplotlib.dates as mdates\n",
    "import numpy\n",
    "import requests\n",
    "import warnings\n",
    "import geopandas as gpd\n",
    "\n",
    "warnings.filterwarnings('ignore')"
   ]
  },
  {
   "cell_type": "code",
   "execution_count": null,
   "metadata": {},
   "outputs": [],
   "source": [
    "# read walkability data into dataframe\n",
    "df_walk = pd.read_csv('../data/walkability.csv')"
   ]
  },
  {
   "cell_type": "code",
   "execution_count": null,
   "metadata": {},
   "outputs": [],
   "source": [
    "df_walk.head()"
   ]
  },
  {
   "cell_type": "code",
   "execution_count": null,
   "metadata": {},
   "outputs": [],
   "source": [
    "# dataframe that does not consider DC a state\n",
    "df_walk_no_dc = df_walk[df_walk['State'] != \"DC\"]"
   ]
  },
  {
   "cell_type": "code",
   "execution_count": null,
   "metadata": {},
   "outputs": [],
   "source": [
    "# group by state, get average walkability score per state and plot \n",
    "ax = (\n",
    "    df_walk_no_dc.groupby('State')['Walk Score'].mean()\n",
    "    .sort_values(ascending=True)\n",
    "    .plot\n",
    "    .barh(figsize=(10, 10), color=\"mediumpurple\")\n",
    "    # .set_facecolor('darkslategray')\n",
    ")\n",
    "\n",
    "ax.vlines(df_walk['Walk Score'].mean(), 0, 1000)\n",
    "\n",
    "# add \n",
    "for i in range(10, len(df_walk['State']), 10):\n",
    "    ax.axhline(y=i - 0.5, color='cornflowerblue', linestyle='--', linewidth=1)\n",
    "\n",
    "# plt.xticks(rotation=30)\n",
    "plt.xlabel(\"Walkability Score\")\n",
    "plt.ylabel(\"State Abbreviations\")\n",
    "plt.title(\"Total Number of Mental Health Facilities per 100,000 People (2016)\");"
   ]
  },
  {
   "cell_type": "markdown",
   "metadata": {},
   "source": [
    "### ANOVA on Walkability Data"
   ]
  },
  {
   "cell_type": "code",
   "execution_count": null,
   "metadata": {},
   "outputs": [],
   "source": [
    "# import statsmodels.api as sm\n",
    "# from statsmodels.formula.api import ols\n",
    "from scipy.stats import f_oneway, shapiro, levene"
   ]
  },
  {
   "cell_type": "code",
   "execution_count": null,
   "metadata": {},
   "outputs": [],
   "source": [
    "# Assuming 'data' is your DataFrame with a column 'WalkabilityScore' and a column 'Group'\n",
    "data = df_walk_no_dc.groupby('State')['Walk Score'].mean().sort_values(ascending=True).to_frame()\n",
    "\n",
    "# Shapiro-Wilk test for normality\n",
    "shapiro_result = shapiro(data['Walk Score'])\n",
    "shapiro_p_value = shapiro_result.pvalue\n",
    "\n",
    "# Print result\n",
    "print(f\"Shapiro-Wilk p-value: {shapiro_p_value:.4f}\") # value greater than 0.05"
   ]
  },
  {
   "cell_type": "code",
   "execution_count": null,
   "metadata": {},
   "outputs": [],
   "source": [
    "# get top 10 and bottom 10 ranking state and their walkability means\n",
    "walkability_top10 = df_walk_no_dc.groupby('State')['Walk Score'].mean().sort_values(ascending=True).head(10)\n",
    "walkability_bottom10 = df_walk_no_dc.groupby('State')['Walk Score'].mean().sort_values(ascending=True).tail(10)\n",
    "\n",
    "# ANOVA\n",
    "f_statistic, p_value = f_oneway(walkability_top10, walkability_bottom10)\n",
    "\n",
    "print(f'F-statistic: {f_statistic:.4f}')\n",
    "print(f'P-value: {p_value:.4f}')"
   ]
  },
  {
   "cell_type": "code",
   "execution_count": null,
   "metadata": {},
   "outputs": [],
   "source": [
    "# p < 0.05 --> there is significance difference in variance\n",
    "f, p = levene(walkability_top10, walkability_bottom10)\n",
    "f, p"
   ]
  },
  {
   "cell_type": "code",
   "execution_count": null,
   "metadata": {},
   "outputs": [],
   "source": []
  },
  {
   "cell_type": "markdown",
   "metadata": {},
   "source": [
    "## Activity (CDC) data"
   ]
  },
  {
   "cell_type": "code",
   "execution_count": null,
   "metadata": {},
   "outputs": [],
   "source": [
    "df_nutri = pd.read_csv(\"../data/nutrition_activity.csv\")\n",
    "df_nutri.drop(['Data_Value_Unit', 'Total', 'Data_Value_Type', 'GeoLocation'], axis=1, inplace=True)"
   ]
  },
  {
   "cell_type": "code",
   "execution_count": null,
   "metadata": {},
   "outputs": [],
   "source": [
    "df_nutri.columns"
   ]
  },
  {
   "cell_type": "code",
   "execution_count": null,
   "metadata": {},
   "outputs": [],
   "source": [
    "df_nutri.info()"
   ]
  },
  {
   "cell_type": "code",
   "execution_count": null,
   "metadata": {},
   "outputs": [],
   "source": [
    "df_nutri.head()"
   ]
  },
  {
   "cell_type": "markdown",
   "metadata": {},
   "source": [
    "Unique question in the dataset: \n",
    "\n",
    "|    | ClassID   | QuestionID   | Question                                                                                                                    |\n",
    "|---:|:----------|:-------------|:----------------------------------------------------------------------------------------------------------------------------|\n",
    "|  0 | FV        | Q020         | Percent of students in grades 9-12 who consume fruit less than 1 time daily                                                 |\n",
    "|  1 | FV        | Q021         | Percent of students in grades 9-12 who consume vegetables less than 1 time daily                                            |\n",
    "|  2 | OWS       | Q038         | Percent of students in grades 9-12 who have obesity                                                                         |\n",
    "|  3 | OWS       | Q039         | Percent of students in grades 9-12 who have an overweight classification                                                    |\n",
    "|  4 | PA        | Q048         | Percent of students in grades 9-12 who achieve 1 hour or more of moderate-and/or vigorous-intensity physical activity daily |\n",
    "|  5 | PA        | Q049         | Percent of students in grades 9-12 who participate in daily physical education                                              |\n",
    "|  6 | SD        | Q058         | Percent of students in grades 9-12 who drank regular soda/pop at least one time per day                                     |\n",
    "|  7 | TV        | Q059         | Percent of students in grades 9-12 watching 3 or more hours of television each school day                                   |\n",
    "\n",
    "(table generated with code: \n",
    "```python\n",
    "print(df_nutri.groupby([\"ClassID\", \"QuestionID\"])[\"Question\"]\n",
    "      .unique()\n",
    "      .reset_index()\n",
    "      .explode(\"Question\")\n",
    "      .to_markdown())\n",
    "```\n",
    ")\n",
    "\n",
    "ClassID: \n",
    "- FV: Fruit and vegetables\n",
    "- OWS: Obesity and Weight Status\n",
    "- PA: Physical activity\n",
    "- SD: Soda drink consumption\n",
    "- TV: TV watching behavior"
   ]
  },
  {
   "cell_type": "code",
   "execution_count": null,
   "metadata": {},
   "outputs": [],
   "source": [
    "vegetable_trend = (\n",
    "    pd.pivot_table(\n",
    "        df_nutri.query(\"ClassID == 'FV'\"),\n",
    "        index=\"YearStart\",\n",
    "        columns=\"QuestionID\",\n",
    "        values=\"Data_Value\",\n",
    "    )\n",
    "    .reset_index()\n",
    "    .assign(YearStart = lambda x: pd.to_datetime(x[\"YearStart\"], format=\"%Y\"))\n",
    ")"
   ]
  },
  {
   "cell_type": "code",
   "execution_count": null,
   "metadata": {},
   "outputs": [],
   "source": [
    "register_matplotlib_converters()  # This is needed for pandas datetime\n",
    "\n",
    "# Plotting\n",
    "ax = vegetable_trend.plot.line(x='YearStart')\n",
    "ax.set_title(\"History trend of students consuming\\nvegetables or fruits less than 1 time daily\")\n",
    "xticks = pd.date_range(start=vegetable_trend['YearStart'].min(), end=\"2020-01-01\", freq='2Y')\n",
    "ax.set_xticks(xticks)\n",
    "ax.set_xticklabels([x.strftime('%Y') for x in xticks], rotation=45)\n",
    "L = plt.legend()\n",
    "L.get_texts()[0].set_text('Fruit (Q020)')\n",
    "L.get_texts()[1].set_text('Vegetables (Q021)')"
   ]
  },
  {
   "cell_type": "code",
   "execution_count": null,
   "metadata": {},
   "outputs": [],
   "source": [
    "obesity_trend = (\n",
    "    pd.pivot_table(\n",
    "        df_nutri.query(\"ClassID == 'OWS'\"),\n",
    "        index=\"YearStart\",\n",
    "        columns=\"QuestionID\",\n",
    "        values=\"Data_Value\",\n",
    "    )\n",
    "    .reset_index()\n",
    "    .assign(YearStart = lambda x: pd.to_datetime(x[\"YearStart\"], format=\"%Y\"))\n",
    ")\n",
    "\n",
    "register_matplotlib_converters()  # This is needed for pandas datetime\n",
    "\n",
    "# Plotting\n",
    "ax = obesity_trend.plot.line(x='YearStart')\n",
    "ax.set_title(\"History trend of percent of students who are overweight or obese\")\n",
    "xticks = pd.date_range(start=obesity_trend['YearStart'].min(), end=\"2020-01-01\", freq='2Y')\n",
    "ax.set_xticks(xticks)\n",
    "ax.set_xticklabels([x.strftime('%Y') for x in xticks], rotation=45)\n",
    "L = plt.legend()\n",
    "L.get_texts()[0].set_text('Obesity (Q038)')\n",
    "L.get_texts()[1].set_text('Overweight (Q039)')"
   ]
  },
  {
   "cell_type": "code",
   "execution_count": null,
   "metadata": {},
   "outputs": [],
   "source": [
    "# soda consumption among overweight and obese students\n",
    "soda_trend = (\n",
    "    pd.pivot_table(\n",
    "        df_nutri.query(\"ClassID == 'SD'\"),\n",
    "        index=\"YearStart\",\n",
    "        columns=\"QuestionID\",\n",
    "        values=\"Data_Value\",\n",
    "    )\n",
    "    .reset_index()\n",
    "    .assign(YearStart = lambda x: pd.to_datetime(x[\"YearStart\"], format=\"%Y\"))\n",
    ")\n",
    "\n",
    "register_matplotlib_converters()  # This is needed for pandas datetime\n",
    "\n",
    "# Plotting\n",
    "ax = soda_trend.plot.line(x='YearStart')\n",
    "ax.set_title(\"History trend of percent of students who are overweight or obese\")\n",
    "xticks = pd.date_range(start=soda_trend['YearStart'].min(), end=\"2020-01-01\", freq='2Y')\n",
    "ax.set_xticks(xticks)\n",
    "ax.set_xticklabels([x.strftime('%Y') for x in xticks], rotation=45)\n",
    "plt.xlabel('Year')\n",
    "plt.ylabel('No. of Students who Drank at least 1 time per Day')\n",
    "L = plt.legend()\n",
    "L.get_texts()[0].set_text('Soda (Q058)')"
   ]
  },
  {
   "cell_type": "markdown",
   "metadata": {},
   "source": [
    "### SNAP Benefits Data\n",
    "Tables:\n",
    "\n",
    "1. [Monthly Average Number of Persons Participating in Supplemental Nutrition Assistance Program (SNAP)](https://www.kff.org/other/state-indicator/avg-monthly-participation/?currentTimeframe=0&sortModel=%7B%22colId%22:%22Location%22,%22sort%22:%22asc%22%7D)\n",
    "1. [Supplemental Nutrition Assistance Program (SNAP) Total Benefits](https://www.kff.org/other/state-indicator/total-snap-program-benefits/?currentTimeframe=0&sortModel=%7B%22colId%22:%22Location%22,%22sort%22:%22asc%22%7D)\n",
    "1. [Average Supplemental Nutrition Assistance Program (SNAP) Benefits Per Person](https://www.kff.org/other/state-indicator/avg-monthly-snap-benefits/?currentTimeframe=0&sortModel=%7B%22colId%22:%22Location%22,%22sort%22:%22asc%22%7D)\n"
   ]
  },
  {
   "cell_type": "code",
   "execution_count": null,
   "metadata": {},
   "outputs": [],
   "source": [
    "# URL of the website\n",
    "url1 = \"https://www.kff.org/other/state-indicator/avg-monthly-participation/?currentTimeframe=0&sortModel=%7B%22colId%22:%22Location%22,%22sort%22:%22asc%22%7D\"\n",
    "url2 = \"https://www.kff.org/other/state-indicator/total-snap-program-benefits/?currentTimeframe=0&sortModel=%7B%22colId%22:%22Location%22,%22sort%22:%22asc%22%7D\"\n",
    "url3 = \"https://www.kff.org/other/state-indicator/avg-monthly-snap-benefits/?currentTimeframe=0&sortModel=%7B%22colId%22:%22Location%22,%22sort%22:%22asc%22%7D\"\n"
   ]
  },
  {
   "cell_type": "code",
   "execution_count": null,
   "metadata": {},
   "outputs": [],
   "source": [
    "# read in the tables\n",
    "# month_avg = pd.read_html(url1)\n",
    "# total_benefits = pd.read_html(url2)\n",
    "# avg_benefits = pd.read_html(url3)"
   ]
  },
  {
   "cell_type": "code",
   "execution_count": null,
   "metadata": {},
   "outputs": [],
   "source": [
    "month_avg = pd.read_csv(\"month_avg.csv\", skiprows=[0,1,3], nrows=53)\n",
    "total_benefits = pd.read_csv(\"total_benefits.csv\", skiprows=[0,1])\n",
    "avg_benefits = pd.read_csv(\"avg_benefits.csv\", skiprows=[0,1])"
   ]
  },
  {
   "cell_type": "code",
   "execution_count": null,
   "metadata": {},
   "outputs": [],
   "source": [
    "month_avg.head()"
   ]
  },
  {
   "cell_type": "code",
   "execution_count": null,
   "metadata": {},
   "outputs": [],
   "source": [
    "month_avg.sort_values(\"Average Monthly SNAP Participants\").plot.barh(\n",
    "    x=\"Location\",\n",
    "    y=\"Average Monthly SNAP Participants\",\n",
    "    figsize=(10, 10),\n",
    ")\n",
    "plt.xlabel(\"Number of Average Monthly SNAP Participants (Millions)\")\n",
    "plt.ylabel(\"State\");"
   ]
  },
  {
   "cell_type": "code",
   "execution_count": 2,
   "metadata": {},
   "outputs": [],
   "source": [
    "# read walkability data into dataframe\n",
    "df_walk = pd.read_csv('../data/walkability.csv')"
   ]
  },
  {
   "cell_type": "code",
   "execution_count": 4,
   "metadata": {},
   "outputs": [],
   "source": [
    "# dataframe that does not consider DC a state\n",
    "df_walk_no_dc = df_walk[df_walk['State'] != \"DC\"]"
   ]
  },
  {
   "cell_type": "markdown",
   "metadata": {},
   "source": [
    "### ANOVA on Walkability Data"
   ]
  },
  {
   "cell_type": "code",
   "execution_count": 7,
   "metadata": {},
   "outputs": [
    {
     "name": "stdout",
     "output_type": "stream",
     "text": [
      "Shapiro-Wilk p-value: 0.0756\n"
     ]
    }
   ],
   "source": [
    "# Assuming 'data' is your DataFrame with a column 'WalkabilityScore' and a column 'Group'\n",
    "data = df_walk_no_dc.groupby('State')['Walk Score'].mean().sort_values(ascending=True).to_frame()\n",
    "\n",
    "# Shapiro-Wilk test for normality\n",
    "shapiro_result = shapiro(data['Walk Score'])\n",
    "shapiro_p_value = shapiro_result.pvalue\n",
    "\n",
    "# Print result\n",
    "print(f\"Shapiro-Wilk p-value: {shapiro_p_value:.4f}\") # value greater than 0.05"
   ]
  },
  {
   "cell_type": "code",
   "execution_count": 10,
   "metadata": {},
   "outputs": [
    {
     "data": {
      "text/plain": [
       "(6.860200965974282, 0.01738267304823813)"
      ]
     },
     "execution_count": 10,
     "metadata": {},
     "output_type": "execute_result"
    }
   ],
   "source": [
    "# p < 0.05 --> there is significance difference in variance\n",
    "f, p = levene(walkability_top10, walkability_bottom10)\n",
    "f, p"
   ]
  },
  {
   "cell_type": "markdown",
   "metadata": {},
   "source": [
    "## Activity (CDC) data"
   ]
  },
  {
   "cell_type": "code",
   "execution_count": 12,
   "metadata": {},
   "outputs": [
    {
     "data": {
      "text/plain": [
       "Index(['YearStart', 'YearEnd', 'LocationAbbr', 'LocationDesc', 'Datasource',\n",
       "       'Class', 'Topic', 'Question', 'Data_Value', 'Data_Value_Alt',\n",
       "       'Data_Value_Footnote_Symbol', 'Data_Value_Footnote',\n",
       "       'Low_Confidence_Limit', 'High_Confidence_Limit ', 'Sample_Size',\n",
       "       'Gender', 'Grade', 'Race/Ethnicity', 'ClassID', 'TopicID', 'QuestionID',\n",
       "       'DataValueTypeID', 'LocationID', 'StratificationCategory1',\n",
       "       'Stratification1', 'StratificationCategoryId1', 'StratificationID1'],\n",
       "      dtype='object')"
      ]
     },
     "execution_count": 12,
     "metadata": {},
     "output_type": "execute_result"
    }
   ],
   "source": [
    "df_nutri.columns"
   ]
  },
  {
   "cell_type": "code",
   "execution_count": 14,
   "metadata": {},
   "outputs": [
    {
     "data": {
      "text/html": [
       "<div>\n",
       "<style scoped>\n",
       "    .dataframe tbody tr th:only-of-type {\n",
       "        vertical-align: middle;\n",
       "    }\n",
       "\n",
       "    .dataframe tbody tr th {\n",
       "        vertical-align: top;\n",
       "    }\n",
       "\n",
       "    .dataframe thead th {\n",
       "        text-align: right;\n",
       "    }\n",
       "</style>\n",
       "<table border=\"1\" class=\"dataframe\">\n",
       "  <thead>\n",
       "    <tr style=\"text-align: right;\">\n",
       "      <th></th>\n",
       "      <th>YearStart</th>\n",
       "      <th>YearEnd</th>\n",
       "      <th>LocationAbbr</th>\n",
       "      <th>LocationDesc</th>\n",
       "      <th>Datasource</th>\n",
       "      <th>Class</th>\n",
       "      <th>Topic</th>\n",
       "      <th>Question</th>\n",
       "      <th>Data_Value</th>\n",
       "      <th>Data_Value_Alt</th>\n",
       "      <th>...</th>\n",
       "      <th>Race/Ethnicity</th>\n",
       "      <th>ClassID</th>\n",
       "      <th>TopicID</th>\n",
       "      <th>QuestionID</th>\n",
       "      <th>DataValueTypeID</th>\n",
       "      <th>LocationID</th>\n",
       "      <th>StratificationCategory1</th>\n",
       "      <th>Stratification1</th>\n",
       "      <th>StratificationCategoryId1</th>\n",
       "      <th>StratificationID1</th>\n",
       "    </tr>\n",
       "  </thead>\n",
       "  <tbody>\n",
       "    <tr>\n",
       "      <th>0</th>\n",
       "      <td>2019</td>\n",
       "      <td>2019</td>\n",
       "      <td>AK</td>\n",
       "      <td>Alaska</td>\n",
       "      <td>Youth Risk Behavior Surveillance System</td>\n",
       "      <td>Physical Activity</td>\n",
       "      <td>Physical Activity - Behavior</td>\n",
       "      <td>Percent of students in grades 9-12 who achieve...</td>\n",
       "      <td>9.6</td>\n",
       "      <td>9.6</td>\n",
       "      <td>...</td>\n",
       "      <td>Asian</td>\n",
       "      <td>PA</td>\n",
       "      <td>PA1</td>\n",
       "      <td>Q048</td>\n",
       "      <td>VALUE</td>\n",
       "      <td>2</td>\n",
       "      <td>Race/Ethnicity</td>\n",
       "      <td>Asian</td>\n",
       "      <td>RACE</td>\n",
       "      <td>RACEASN</td>\n",
       "    </tr>\n",
       "    <tr>\n",
       "      <th>1</th>\n",
       "      <td>2019</td>\n",
       "      <td>2019</td>\n",
       "      <td>AZ</td>\n",
       "      <td>Arizona</td>\n",
       "      <td>Youth Risk Behavior Surveillance System</td>\n",
       "      <td>Obesity / Weight Status</td>\n",
       "      <td>Obesity / Weight Status</td>\n",
       "      <td>Percent of students in grades 9-12 who have ob...</td>\n",
       "      <td>13.3</td>\n",
       "      <td>13.3</td>\n",
       "      <td>...</td>\n",
       "      <td>NaN</td>\n",
       "      <td>OWS</td>\n",
       "      <td>OWS1</td>\n",
       "      <td>Q038</td>\n",
       "      <td>VALUE</td>\n",
       "      <td>4</td>\n",
       "      <td>Total</td>\n",
       "      <td>Total</td>\n",
       "      <td>OVR</td>\n",
       "      <td>OVERALL</td>\n",
       "    </tr>\n",
       "    <tr>\n",
       "      <th>2</th>\n",
       "      <td>2019</td>\n",
       "      <td>2019</td>\n",
       "      <td>DC</td>\n",
       "      <td>District of Columbia</td>\n",
       "      <td>Youth Risk Behavior Surveillance System</td>\n",
       "      <td>Obesity / Weight Status</td>\n",
       "      <td>Obesity / Weight Status</td>\n",
       "      <td>Percent of students in grades 9-12 who have ob...</td>\n",
       "      <td>17.1</td>\n",
       "      <td>17.1</td>\n",
       "      <td>...</td>\n",
       "      <td>NaN</td>\n",
       "      <td>OWS</td>\n",
       "      <td>OWS1</td>\n",
       "      <td>Q038</td>\n",
       "      <td>VALUE</td>\n",
       "      <td>11</td>\n",
       "      <td>Total</td>\n",
       "      <td>Total</td>\n",
       "      <td>OVR</td>\n",
       "      <td>OVERALL</td>\n",
       "    </tr>\n",
       "    <tr>\n",
       "      <th>3</th>\n",
       "      <td>2019</td>\n",
       "      <td>2019</td>\n",
       "      <td>IL</td>\n",
       "      <td>Illinois</td>\n",
       "      <td>Youth Risk Behavior Surveillance System</td>\n",
       "      <td>Physical Activity</td>\n",
       "      <td>Physical Activity - Behavior</td>\n",
       "      <td>Percent of students in grades 9-12 who partici...</td>\n",
       "      <td>65.9</td>\n",
       "      <td>65.9</td>\n",
       "      <td>...</td>\n",
       "      <td>NaN</td>\n",
       "      <td>PA</td>\n",
       "      <td>PA1</td>\n",
       "      <td>Q049</td>\n",
       "      <td>VALUE</td>\n",
       "      <td>17</td>\n",
       "      <td>Grade</td>\n",
       "      <td>10th</td>\n",
       "      <td>GRADE</td>\n",
       "      <td>GRADE10</td>\n",
       "    </tr>\n",
       "    <tr>\n",
       "      <th>4</th>\n",
       "      <td>2019</td>\n",
       "      <td>2019</td>\n",
       "      <td>MD</td>\n",
       "      <td>Maryland</td>\n",
       "      <td>Youth Risk Behavior Surveillance System</td>\n",
       "      <td>Obesity / Weight Status</td>\n",
       "      <td>Obesity / Weight Status</td>\n",
       "      <td>Percent of students in grades 9-12 who have an...</td>\n",
       "      <td>16.7</td>\n",
       "      <td>16.7</td>\n",
       "      <td>...</td>\n",
       "      <td>2 or more races</td>\n",
       "      <td>OWS</td>\n",
       "      <td>OWS1</td>\n",
       "      <td>Q039</td>\n",
       "      <td>VALUE</td>\n",
       "      <td>24</td>\n",
       "      <td>Race/Ethnicity</td>\n",
       "      <td>2 or more races</td>\n",
       "      <td>RACE</td>\n",
       "      <td>RACE2PLUS</td>\n",
       "    </tr>\n",
       "  </tbody>\n",
       "</table>\n",
       "<p>5 rows × 27 columns</p>\n",
       "</div>"
      ],
      "text/plain": [
       "   YearStart  YearEnd LocationAbbr          LocationDesc  \\\n",
       "0       2019     2019           AK                Alaska   \n",
       "1       2019     2019           AZ               Arizona   \n",
       "2       2019     2019           DC  District of Columbia   \n",
       "3       2019     2019           IL              Illinois   \n",
       "4       2019     2019           MD              Maryland   \n",
       "\n",
       "                                Datasource                    Class  \\\n",
       "0  Youth Risk Behavior Surveillance System        Physical Activity   \n",
       "1  Youth Risk Behavior Surveillance System  Obesity / Weight Status   \n",
       "2  Youth Risk Behavior Surveillance System  Obesity / Weight Status   \n",
       "3  Youth Risk Behavior Surveillance System        Physical Activity   \n",
       "4  Youth Risk Behavior Surveillance System  Obesity / Weight Status   \n",
       "\n",
       "                          Topic  \\\n",
       "0  Physical Activity - Behavior   \n",
       "1       Obesity / Weight Status   \n",
       "2       Obesity / Weight Status   \n",
       "3  Physical Activity - Behavior   \n",
       "4       Obesity / Weight Status   \n",
       "\n",
       "                                            Question  Data_Value  \\\n",
       "0  Percent of students in grades 9-12 who achieve...         9.6   \n",
       "1  Percent of students in grades 9-12 who have ob...        13.3   \n",
       "2  Percent of students in grades 9-12 who have ob...        17.1   \n",
       "3  Percent of students in grades 9-12 who partici...        65.9   \n",
       "4  Percent of students in grades 9-12 who have an...        16.7   \n",
       "\n",
       "   Data_Value_Alt  ...   Race/Ethnicity ClassID  TopicID  QuestionID  \\\n",
       "0             9.6  ...            Asian      PA      PA1        Q048   \n",
       "1            13.3  ...              NaN     OWS     OWS1        Q038   \n",
       "2            17.1  ...              NaN     OWS     OWS1        Q038   \n",
       "3            65.9  ...              NaN      PA      PA1        Q049   \n",
       "4            16.7  ...  2 or more races     OWS     OWS1        Q039   \n",
       "\n",
       "   DataValueTypeID LocationID StratificationCategory1  Stratification1  \\\n",
       "0            VALUE          2          Race/Ethnicity            Asian   \n",
       "1            VALUE          4                   Total            Total   \n",
       "2            VALUE         11                   Total            Total   \n",
       "3            VALUE         17                   Grade             10th   \n",
       "4            VALUE         24          Race/Ethnicity  2 or more races   \n",
       "\n",
       "  StratificationCategoryId1 StratificationID1  \n",
       "0                      RACE           RACEASN  \n",
       "1                       OVR           OVERALL  \n",
       "2                       OVR           OVERALL  \n",
       "3                     GRADE           GRADE10  \n",
       "4                      RACE         RACE2PLUS  \n",
       "\n",
       "[5 rows x 27 columns]"
      ]
     },
     "execution_count": 14,
     "metadata": {},
     "output_type": "execute_result"
    }
   ],
   "source": [
    "df_nutri.head()"
   ]
  },
  {
   "cell_type": "code",
   "execution_count": 15,
   "metadata": {},
   "outputs": [],
   "source": [
    "vegetable_trend = (\n",
    "    pd.pivot_table(\n",
    "        df_nutri.query(\"ClassID == 'FV'\"),\n",
    "        index=\"YearStart\",\n",
    "        columns=\"QuestionID\",\n",
    "        values=\"Data_Value\",\n",
    "    )\n",
    "    .reset_index()\n",
    "    .assign(YearStart = lambda x: pd.to_datetime(x[\"YearStart\"], format=\"%Y\"))\n",
    ")"
   ]
  },
  {
   "cell_type": "code",
   "execution_count": 17,
   "metadata": {},
   "outputs": [
    {
     "data": {
      "image/png": "[encoded data removed]",
      "text/plain": [
       "<Figure size 640x480 with 1 Axes>"
      ]
     },
     "metadata": {},
     "output_type": "display_data"
    }
   ],
   "source": [
    "obesity_trend = (\n",
    "    pd.pivot_table(\n",
    "        df_nutri.query(\"ClassID == 'OWS'\"),\n",
    "        index=\"YearStart\",\n",
    "        columns=\"QuestionID\",\n",
    "        values=\"Data_Value\",\n",
    "    )\n",
    "    .reset_index()\n",
    "    .assign(YearStart = lambda x: pd.to_datetime(x[\"YearStart\"], format=\"%Y\"))\n",
    ")\n",
    "\n",
    "register_matplotlib_converters()  # This is needed for pandas datetime\n",
    "\n",
    "# Plotting\n",
    "ax = obesity_trend.plot.line(x='YearStart')\n",
    "ax.set_title(\"History trend of percent of students who are overweight or obese\")\n",
    "xticks = pd.date_range(start=obesity_trend['YearStart'].min(), end=\"2020-01-01\", freq='2Y')\n",
    "ax.set_xticks(xticks)\n",
    "ax.set_xticklabels([x.strftime('%Y') for x in xticks], rotation=45)\n",
    "L = plt.legend()\n",
    "L.get_texts()[0].set_text('Obesity (Q038)')\n",
    "L.get_texts()[1].set_text('Overweight (Q039)')"
   ]
  },
  {
   "cell_type": "markdown",
   "metadata": {},
   "source": [
    "### SNAP Benefits Data\n",
    "Tables:\n",
    "\n",
    "1. [Monthly Average Number of Persons Participating in Supplemental Nutrition Assistance Program (SNAP)](https://www.kff.org/other/state-indicator/avg-monthly-participation/?currentTimeframe=0&sortModel=%7B%22colId%22:%22Location%22,%22sort%22:%22asc%22%7D)\n",
    "1. [Supplemental Nutrition Assistance Program (SNAP) Total Benefits](https://www.kff.org/other/state-indicator/total-snap-program-benefits/?currentTimeframe=0&sortModel=%7B%22colId%22:%22Location%22,%22sort%22:%22asc%22%7D)\n",
    "1. [Average Supplemental Nutrition Assistance Program (SNAP) Benefits Per Person](https://www.kff.org/other/state-indicator/avg-monthly-snap-benefits/?currentTimeframe=0&sortModel=%7B%22colId%22:%22Location%22,%22sort%22:%22asc%22%7D)\n"
   ]
  },
  {
   "cell_type": "code",
   "execution_count": 21,
   "metadata": {},
   "outputs": [],
   "source": [
    "# read in the tables\n",
    "# month_avg = pd.read_html(url1)\n",
    "# total_benefits = pd.read_html(url2)\n",
    "# avg_benefits = pd.read_html(url3)"
   ]
  },
  {
   "cell_type": "code",
   "execution_count": 46,
   "metadata": {},
   "outputs": [
    {
     "data": {
      "text/html": [
       "<div>\n",
       "<style scoped>\n",
       "    .dataframe tbody tr th:only-of-type {\n",
       "        vertical-align: middle;\n",
       "    }\n",
       "\n",
       "    .dataframe tbody tr th {\n",
       "        vertical-align: top;\n",
       "    }\n",
       "\n",
       "    .dataframe thead th {\n",
       "        text-align: right;\n",
       "    }\n",
       "</style>\n",
       "<table border=\"1\" class=\"dataframe\">\n",
       "  <thead>\n",
       "    <tr style=\"text-align: right;\">\n",
       "      <th></th>\n",
       "      <th>Location</th>\n",
       "      <th>Average Monthly SNAP Participants</th>\n",
       "      <th>Footnotes</th>\n",
       "    </tr>\n",
       "  </thead>\n",
       "  <tbody>\n",
       "    <tr>\n",
       "      <th>0</th>\n",
       "      <td>California</td>\n",
       "      <td>4627744.0</td>\n",
       "      <td>NaN</td>\n",
       "    </tr>\n",
       "    <tr>\n",
       "      <th>1</th>\n",
       "      <td>Texas</td>\n",
       "      <td>3440726.0</td>\n",
       "      <td>NaN</td>\n",
       "    </tr>\n",
       "    <tr>\n",
       "      <th>2</th>\n",
       "      <td>Florida</td>\n",
       "      <td>2847086.0</td>\n",
       "      <td>NaN</td>\n",
       "    </tr>\n",
       "    <tr>\n",
       "      <th>3</th>\n",
       "      <td>New York</td>\n",
       "      <td>2839326.0</td>\n",
       "      <td>NaN</td>\n",
       "    </tr>\n",
       "    <tr>\n",
       "      <th>4</th>\n",
       "      <td>Illinois</td>\n",
       "      <td>1981714.0</td>\n",
       "      <td>NaN</td>\n",
       "    </tr>\n",
       "  </tbody>\n",
       "</table>\n",
       "</div>"
      ],
      "text/plain": [
       "     Location  Average Monthly SNAP Participants  Footnotes\n",
       "0  California                          4627744.0        NaN\n",
       "1       Texas                          3440726.0        NaN\n",
       "2     Florida                          2847086.0        NaN\n",
       "3    New York                          2839326.0        NaN\n",
       "4    Illinois                          1981714.0        NaN"
      ]
     },
     "execution_count": 46,
     "metadata": {},
     "output_type": "execute_result"
    }
   ],
   "source": [
    "month_avg.head()"
   ]
  }
 ],
 "metadata": {
  "kernelspec": {
   "display_name": ".venv",
   "language": "python",
   "name": "python3"
  },
  "language_info": {
   "codemirror_mode": {
    "name": "ipython",
    "version": 3
   },
   "file_extension": ".py",
   "mimetype": "text/x-python",
   "name": "python",
   "nbconvert_exporter": "python",
   "pygments_lexer": "ipython3",
   "version": "3.11.3"
  }
 },
 "nbformat": 4,
 "nbformat_minor": 2
}
