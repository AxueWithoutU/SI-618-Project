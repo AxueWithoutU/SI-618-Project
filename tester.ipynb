{
 "cells": [
  {
   "cell_type": "code",
   "execution_count": 11,
   "metadata": {},
   "outputs": [],
   "source": [
    "import json\n",
    "import csv\n",
    "import requests as r"
   ]
  },
  {
   "cell_type": "code",
   "execution_count": 18,
   "metadata": {},
   "outputs": [],
   "source": [
    "json_url = \"https://data.cdc.gov/resource/vba9-s8jp.json?$query=SELECT%0A%20%20%60yearstart%60%2C%0A%20%20%60yearend%60%2C%0A%20%20%60locationabbr%60%2C%0A%20%20%60locationdesc%60%2C%0A%20%20%60datasource%60%2C%0A%20%20%60class%60%2C%0A%20%20%60topic%60%2C%0A%20%20%60question%60%2C%0A%20%20%60data_value_unit%60%2C%0A%20%20%60data_value_type%60%2C%0A%20%20%60data_value%60%2C%0A%20%20%60data_value_alt%60%2C%0A%20%20%60data_value_footnote_symbol%60%2C%0A%20%20%60data_value_footnote%60%2C%0A%20%20%60low_confidence_limit%60%2C%0A%20%20%60high_confidence_limit%60%2C%0A%20%20%60sample_size%60%2C%0A%20%20%60total%60%2C%0A%20%20%60gender%60%2C%0A%20%20%60grade%60%2C%0A%20%20%60race_ethnicity%60%2C%0A%20%20%60geolocation%60%2C%0A%20%20%60classid%60%2C%0A%20%20%60topicid%60%2C%0A%20%20%60questionid%60%2C%0A%20%20%60datavaluetypeid%60%2C%0A%20%20%60locationid%60%2C%0A%20%20%60stratificationcategory1%60%2C%0A%20%20%60stratification1%60%2C%0A%20%20%60stratificationcategoryid1%60%2C%0A%20%20%60stratificationid1%60\"\n",
    "results = r.get(json_url, timeout=15).json()"
   ]
  },
  {
   "cell_type": "code",
   "execution_count": 19,
   "metadata": {},
   "outputs": [],
   "source": [
    "data_file = open('nutri_data.csv', 'w')\n",
    "csv_writer = csv.writer(data_file)"
   ]
  }
 ],
 "metadata": {
  "kernelspec": {
   "display_name": "Python 3",
   "language": "python",
   "name": "python3"
  },
  "language_info": {
   "codemirror_mode": {
    "name": "ipython",
    "version": 3
   },
   "file_extension": ".py",
   "mimetype": "text/x-python",
   "name": "python",
   "nbconvert_exporter": "python",
   "pygments_lexer": "ipython3",
   "version": "3.10.11"
  }
 },
 "nbformat": 4,
 "nbformat_minor": 2
}
